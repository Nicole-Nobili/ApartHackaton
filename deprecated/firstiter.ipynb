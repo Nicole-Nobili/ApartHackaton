{
 "cells": [
  {
   "cell_type": "markdown",
   "metadata": {},
   "source": [
    "## Let's automate feature discovery!"
   ]
  },
  {
   "cell_type": "markdown",
   "metadata": {},
   "source": [
    "## setup stuff"
   ]
  },
  {
   "cell_type": "code",
   "execution_count": 1,
   "metadata": {},
   "outputs": [
    {
     "name": "stdout",
     "output_type": "stream",
     "text": [
      "Defaulting to user installation because normal site-packages is not writeable\n",
      "Collecting goodfire\n",
      "  Downloading goodfire-0.2.25-py3-none-any.whl.metadata (1.2 kB)\n",
      "Collecting httpx<0.28.0,>=0.27.2 (from goodfire)\n",
      "  Downloading httpx-0.27.2-py3-none-any.whl.metadata (7.1 kB)\n",
      "Collecting ipywidgets<9.0.0,>=8.1.5 (from goodfire)\n",
      "  Downloading ipywidgets-8.1.5-py3-none-any.whl.metadata (2.3 kB)\n",
      "Collecting numpy<2.0.0,>=1.26.4 (from goodfire)\n",
      "  Downloading numpy-1.26.4-cp39-cp39-macosx_11_0_arm64.whl.metadata (61 kB)\n",
      "Collecting pydantic<3.0.0,>=2.9.2 (from goodfire)\n",
      "  Downloading pydantic-2.10.1-py3-none-any.whl.metadata (169 kB)\n",
      "Collecting anyio (from httpx<0.28.0,>=0.27.2->goodfire)\n",
      "  Downloading anyio-4.6.2.post1-py3-none-any.whl.metadata (4.7 kB)\n",
      "Requirement already satisfied: certifi in /Users/nicole/Library/Python/3.9/lib/python/site-packages (from httpx<0.28.0,>=0.27.2->goodfire) (2024.8.30)\n",
      "Collecting httpcore==1.* (from httpx<0.28.0,>=0.27.2->goodfire)\n",
      "  Downloading httpcore-1.0.7-py3-none-any.whl.metadata (21 kB)\n",
      "Requirement already satisfied: idna in /Users/nicole/Library/Python/3.9/lib/python/site-packages (from httpx<0.28.0,>=0.27.2->goodfire) (3.10)\n",
      "Collecting sniffio (from httpx<0.28.0,>=0.27.2->goodfire)\n",
      "  Downloading sniffio-1.3.1-py3-none-any.whl.metadata (3.9 kB)\n",
      "Collecting h11<0.15,>=0.13 (from httpcore==1.*->httpx<0.28.0,>=0.27.2->goodfire)\n",
      "  Downloading h11-0.14.0-py3-none-any.whl.metadata (8.2 kB)\n",
      "Requirement already satisfied: comm>=0.1.3 in /Users/nicole/Library/Python/3.9/lib/python/site-packages (from ipywidgets<9.0.0,>=8.1.5->goodfire) (0.2.2)\n",
      "Requirement already satisfied: ipython>=6.1.0 in /Users/nicole/Library/Python/3.9/lib/python/site-packages (from ipywidgets<9.0.0,>=8.1.5->goodfire) (8.18.1)\n",
      "Requirement already satisfied: traitlets>=4.3.1 in /Users/nicole/Library/Python/3.9/lib/python/site-packages (from ipywidgets<9.0.0,>=8.1.5->goodfire) (5.14.3)\n",
      "Collecting widgetsnbextension~=4.0.12 (from ipywidgets<9.0.0,>=8.1.5->goodfire)\n",
      "  Downloading widgetsnbextension-4.0.13-py3-none-any.whl.metadata (1.6 kB)\n",
      "Collecting jupyterlab-widgets~=3.0.12 (from ipywidgets<9.0.0,>=8.1.5->goodfire)\n",
      "  Downloading jupyterlab_widgets-3.0.13-py3-none-any.whl.metadata (4.1 kB)\n",
      "Collecting annotated-types>=0.6.0 (from pydantic<3.0.0,>=2.9.2->goodfire)\n",
      "  Downloading annotated_types-0.7.0-py3-none-any.whl.metadata (15 kB)\n",
      "Collecting pydantic-core==2.27.1 (from pydantic<3.0.0,>=2.9.2->goodfire)\n",
      "  Downloading pydantic_core-2.27.1-cp39-cp39-macosx_11_0_arm64.whl.metadata (6.6 kB)\n",
      "Requirement already satisfied: typing-extensions>=4.12.2 in /Users/nicole/Library/Python/3.9/lib/python/site-packages (from pydantic<3.0.0,>=2.9.2->goodfire) (4.12.2)\n",
      "Requirement already satisfied: decorator in /Users/nicole/Library/Python/3.9/lib/python/site-packages (from ipython>=6.1.0->ipywidgets<9.0.0,>=8.1.5->goodfire) (5.1.1)\n",
      "Requirement already satisfied: jedi>=0.16 in /Users/nicole/Library/Python/3.9/lib/python/site-packages (from ipython>=6.1.0->ipywidgets<9.0.0,>=8.1.5->goodfire) (0.19.1)\n",
      "Requirement already satisfied: matplotlib-inline in /Users/nicole/Library/Python/3.9/lib/python/site-packages (from ipython>=6.1.0->ipywidgets<9.0.0,>=8.1.5->goodfire) (0.1.7)\n",
      "Requirement already satisfied: prompt-toolkit<3.1.0,>=3.0.41 in /Users/nicole/Library/Python/3.9/lib/python/site-packages (from ipython>=6.1.0->ipywidgets<9.0.0,>=8.1.5->goodfire) (3.0.48)\n",
      "Requirement already satisfied: pygments>=2.4.0 in /Users/nicole/Library/Python/3.9/lib/python/site-packages (from ipython>=6.1.0->ipywidgets<9.0.0,>=8.1.5->goodfire) (2.18.0)\n",
      "Requirement already satisfied: stack-data in /Users/nicole/Library/Python/3.9/lib/python/site-packages (from ipython>=6.1.0->ipywidgets<9.0.0,>=8.1.5->goodfire) (0.6.3)\n",
      "Requirement already satisfied: exceptiongroup in /Users/nicole/Library/Python/3.9/lib/python/site-packages (from ipython>=6.1.0->ipywidgets<9.0.0,>=8.1.5->goodfire) (1.2.2)\n",
      "Requirement already satisfied: pexpect>4.3 in /Users/nicole/Library/Python/3.9/lib/python/site-packages (from ipython>=6.1.0->ipywidgets<9.0.0,>=8.1.5->goodfire) (4.9.0)\n",
      "Requirement already satisfied: parso<0.9.0,>=0.8.3 in /Users/nicole/Library/Python/3.9/lib/python/site-packages (from jedi>=0.16->ipython>=6.1.0->ipywidgets<9.0.0,>=8.1.5->goodfire) (0.8.4)\n",
      "Requirement already satisfied: ptyprocess>=0.5 in /Users/nicole/Library/Python/3.9/lib/python/site-packages (from pexpect>4.3->ipython>=6.1.0->ipywidgets<9.0.0,>=8.1.5->goodfire) (0.7.0)\n",
      "Requirement already satisfied: wcwidth in /Users/nicole/Library/Python/3.9/lib/python/site-packages (from prompt-toolkit<3.1.0,>=3.0.41->ipython>=6.1.0->ipywidgets<9.0.0,>=8.1.5->goodfire) (0.2.13)\n",
      "Requirement already satisfied: executing>=1.2.0 in /Users/nicole/Library/Python/3.9/lib/python/site-packages (from stack-data->ipython>=6.1.0->ipywidgets<9.0.0,>=8.1.5->goodfire) (2.1.0)\n",
      "Requirement already satisfied: asttokens>=2.1.0 in /Users/nicole/Library/Python/3.9/lib/python/site-packages (from stack-data->ipython>=6.1.0->ipywidgets<9.0.0,>=8.1.5->goodfire) (2.4.1)\n",
      "Requirement already satisfied: pure-eval in /Users/nicole/Library/Python/3.9/lib/python/site-packages (from stack-data->ipython>=6.1.0->ipywidgets<9.0.0,>=8.1.5->goodfire) (0.2.3)\n",
      "Requirement already satisfied: six>=1.12.0 in /Users/nicole/Library/Python/3.9/lib/python/site-packages (from asttokens>=2.1.0->stack-data->ipython>=6.1.0->ipywidgets<9.0.0,>=8.1.5->goodfire) (1.16.0)\n",
      "Downloading goodfire-0.2.25-py3-none-any.whl (29 kB)\n",
      "Downloading httpx-0.27.2-py3-none-any.whl (76 kB)\n",
      "Downloading httpcore-1.0.7-py3-none-any.whl (78 kB)\n",
      "Downloading ipywidgets-8.1.5-py3-none-any.whl (139 kB)\n",
      "Downloading numpy-1.26.4-cp39-cp39-macosx_11_0_arm64.whl (14.0 MB)\n",
      "\u001b[2K   \u001b[90m━━━━━━━━━━━━━━━━━━━━━━━━━━━━━━━━━━━━━━━━\u001b[0m \u001b[32m14.0/14.0 MB\u001b[0m \u001b[31m30.4 MB/s\u001b[0m eta \u001b[36m0:00:00\u001b[0ma \u001b[36m0:00:01\u001b[0m\n",
      "\u001b[?25hDownloading pydantic-2.10.1-py3-none-any.whl (455 kB)\n",
      "Downloading pydantic_core-2.27.1-cp39-cp39-macosx_11_0_arm64.whl (1.8 MB)\n",
      "\u001b[2K   \u001b[90m━━━━━━━━━━━━━━━━━━━━━━━━━━━━━━━━━━━━━━━━\u001b[0m \u001b[32m1.8/1.8 MB\u001b[0m \u001b[31m31.6 MB/s\u001b[0m eta \u001b[36m0:00:00\u001b[0m\n",
      "\u001b[?25hDownloading annotated_types-0.7.0-py3-none-any.whl (13 kB)\n",
      "Downloading jupyterlab_widgets-3.0.13-py3-none-any.whl (214 kB)\n",
      "Downloading widgetsnbextension-4.0.13-py3-none-any.whl (2.3 MB)\n",
      "\u001b[2K   \u001b[90m━━━━━━━━━━━━━━━━━━━━━━━━━━━━━━━━━━━━━━━━\u001b[0m \u001b[32m2.3/2.3 MB\u001b[0m \u001b[31m34.9 MB/s\u001b[0m eta \u001b[36m0:00:00\u001b[0m\n",
      "\u001b[?25hDownloading anyio-4.6.2.post1-py3-none-any.whl (90 kB)\n",
      "Downloading sniffio-1.3.1-py3-none-any.whl (10 kB)\n",
      "Downloading h11-0.14.0-py3-none-any.whl (58 kB)\n",
      "Installing collected packages: widgetsnbextension, sniffio, pydantic-core, numpy, jupyterlab-widgets, h11, annotated-types, pydantic, httpcore, anyio, httpx, ipywidgets, goodfire\n",
      "  Attempting uninstall: numpy\n",
      "    Found existing installation: numpy 2.0.2\n",
      "    Uninstalling numpy-2.0.2:\n",
      "      Successfully uninstalled numpy-2.0.2\n",
      "Successfully installed annotated-types-0.7.0 anyio-4.6.2.post1 goodfire-0.2.25 h11-0.14.0 httpcore-1.0.7 httpx-0.27.2 ipywidgets-8.1.5 jupyterlab-widgets-3.0.13 numpy-1.26.4 pydantic-2.10.1 pydantic-core-2.27.1 sniffio-1.3.1 widgetsnbextension-4.0.13\n"
     ]
    }
   ],
   "source": [
    "!pip install goodfire"
   ]
  },
  {
   "cell_type": "code",
   "execution_count": 3,
   "metadata": {},
   "outputs": [],
   "source": [
    "GOODFIRE_API_KEY"
   ]
  },
  {
   "cell_type": "code",
   "execution_count": 1,
   "metadata": {},
   "outputs": [],
   "source": [
    "import os\n",
    "GOODFIRE_API_KEY = os.environ.get('GOODFIRE_API_KEY')  # Set this in your environment variables\n",
    "\n",
    "import goodfire\n",
    "\n",
    "client = goodfire.Client(\n",
    "    GOODFIRE_API_KEY\n",
    ")\n",
    "\n",
    "# Instantiate a model variant\n",
    "variant = goodfire.Variant(\"meta-llama/Meta-Llama-3-8B-Instruct\")"
   ]
  },
  {
   "cell_type": "code",
   "execution_count": null,
   "metadata": {},
   "outputs": [],
   "source": []
  }
 ],
 "metadata": {
  "kernelspec": {
   "display_name": "Python 3",
   "language": "python",
   "name": "python3"
  },
  "language_info": {
   "codemirror_mode": {
    "name": "ipython",
    "version": 3
   },
   "file_extension": ".py",
   "mimetype": "text/x-python",
   "name": "python",
   "nbconvert_exporter": "python",
   "pygments_lexer": "ipython3",
   "version": "3.9.6"
  }
 },
 "nbformat": 4,
 "nbformat_minor": 2
}
